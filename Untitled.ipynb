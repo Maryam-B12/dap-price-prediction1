{
 "cells": [
  {
   "cell_type": "code",
   "execution_count": null,
   "id": "42e78058-0007-4bc0-b699-43d7cbb22ad3",
   "metadata": {},
   "outputs": [],
   "source": [
    "# Entrée des variables\n",
    "Soufre = st.number_input(\"Prix Soufre\", min_value=0, value=0)\n",
    "NH3 = st.number_input(\"Prix NH3\", min_value=0, value=0)\n",
    "ACS = st.number_input(\"Prix ACS\", min_value=0, value=0)\n",
    "st.divider()\n",
    "\n",
    "# Préparation des données\n",
    "X = [Soufre, NH3, ACS]"
   ]
  }
 ],
 "metadata": {
  "kernelspec": {
   "display_name": "Python 3 (ipykernel)",
   "language": "python",
   "name": "python3"
  },
  "language_info": {
   "codemirror_mode": {
    "name": "ipython",
    "version": 3
   },
   "file_extension": ".py",
   "mimetype": "text/x-python",
   "name": "python",
   "nbconvert_exporter": "python",
   "pygments_lexer": "ipython3",
   "version": "3.12.7"
  }
 },
 "nbformat": 4,
 "nbformat_minor": 5
}
